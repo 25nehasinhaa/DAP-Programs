{
  "nbformat": 4,
  "nbformat_minor": 0,
  "metadata": {
    "colab": {
      "name": "Untitled10.ipynb",
      "provenance": [],
      "collapsed_sections": [],
      "authorship_tag": "ABX9TyOH91ujtEw1but4uwThaqQ6",
      "include_colab_link": true
    },
    "kernelspec": {
      "name": "python3",
      "display_name": "Python 3"
    },
    "language_info": {
      "name": "python"
    }
  },
  "cells": [
    {
      "cell_type": "markdown",
      "metadata": {
        "id": "view-in-github",
        "colab_type": "text"
      },
      "source": [
        "<a href=\"https://colab.research.google.com/github/25nehasinhaa/DAP-Programs/blob/main/lists.ipynb\" target=\"_parent\"><img src=\"https://colab.research.google.com/assets/colab-badge.svg\" alt=\"Open In Colab\"/></a>"
      ]
    },
    {
      "cell_type": "code",
      "metadata": {
        "id": "AWmkeoJwQifv"
      },
      "source": [
        "LISTS:\n",
        "list1 = ['physics', 'chemistry', 1997, 2000];\n",
        "list2 = [1, 2, 3, 4, 5, 6, 7 ];\n",
        "print (\"list1[0]: \", list1[2])\n",
        "print (\"list2[1:5]: \", list2[1:3])\n",
        "\n",
        "list = ['physics', 'chemistry', 1997, 2000];\n",
        "print (\"Value available at index 2 : \")\n",
        "print (list[2])\n",
        "list[2] = 999999;\n",
        "print (\"New value available at index 2 : \")\n",
        "print (list[2])\n",
        "\n",
        "list1 = ['physics', 'chemistry', 1997, 2000];\n",
        "print (list1)\n",
        "del (list1[2]);\n",
        "print (\"After deleting value at index 2 :\")\n",
        "print (list1)\n",
        " \n",
        "list1, list2 = [123, 'xyz', 'zara'], [456, 'abc']\n",
        "print (\"First list length : \", len(list1))\n",
        "print (\"Second list length : \", len(list2))\n",
        "\n",
        "aList = [123, 'xyz', 'zara', 'abc'];\n",
        "aList.append( 2009 );\n",
        "print (\"Updated List : \", aList)\n",
        "\n",
        "aList = [123, 'xyz', 'xyz', 'abc', 123];\n",
        "print (\"Count for xyz : \", aList.count('xyz'))\n",
        "print (\"Count for zara : \", aList.count('zara'))\n",
        "\n",
        "aList = [123, 'xyz', 'zara', 'abc', 123];\n",
        "bList = [2009, 'shabnam'];\n",
        "aList.extend(bList)\n",
        "print (\"Extended List : \", aList)\n",
        " \n",
        "aList = [123, 'xyz', 'zara', 'abc', 'zara'];\n",
        "print (\"Index for xyz : \", aList.index( 'xyz' ) )\n",
        "print (\"Index for zara : \", aList.index( 'zara' ) )\n",
        "\n",
        "aList = [123, 'xyz', 'zara', 'abc']\n",
        "aList.insert( 2, 2009)\n",
        "print (\"Final List : \", aList)\n",
        "\n",
        "aList = [123, 'xyz', 'zara', 'abc'];\n",
        "print(aList)\n",
        "print (\"List after popping last element : \", aList.pop())\n",
        "print(aList)\n",
        "print (\"List after popping element from mentioned index: \", aList.pop(2))\n",
        "print(aList)\n",
        "aList.insert(1, 2009)\n",
        "print(aList)\n",
        " \n",
        "aList = [123, 'xyz', 'zara', 'abc', 'xyz'];\n",
        "aList.remove('xyz');\n",
        "print (\"List : \", aList)\n",
        "aList.remove('abc');\n",
        "print (\"List : \", aList)\n",
        "\n",
        "aList = ['shabnam', 'rohit', 'zara', 'abc', 'neha'];\n",
        "aList.reverse();\n",
        "print (\"List : \", aList)\n",
        "\n",
        "aList = ['naveen', 'shabnam', 'sonia', 'ali', 'neha'];\n",
        "aList.sort();\n",
        "print (\"List : \", aList)\n",
        "\n",
        "aList = ['naveen', 'shabnam', 'sonia', 'ali', 'neha ,'123'];\n",
        "aList.sort();\n",
        "print (\"List : \", aList)\n",
        " \n"
      ],
      "execution_count": null,
      "outputs": []
    }
  ]
}