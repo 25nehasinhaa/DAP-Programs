{
  "nbformat": 4,
  "nbformat_minor": 0,
  "metadata": {
    "colab": {
      "name": "Untitled9.ipynb",
      "provenance": [],
      "collapsed_sections": [],
      "authorship_tag": "ABX9TyMiq90HW/1taUOHfiz9o35W",
      "include_colab_link": true
    },
    "kernelspec": {
      "name": "python3",
      "display_name": "Python 3"
    },
    "language_info": {
      "name": "python"
    }
  },
  "cells": [
    {
      "cell_type": "markdown",
      "metadata": {
        "id": "view-in-github",
        "colab_type": "text"
      },
      "source": [
        "<a href=\"https://colab.research.google.com/github/25nehasinhaa/DAP-Programs/blob/main/restaurant.ipynb\" target=\"_parent\"><img src=\"https://colab.research.google.com/assets/colab-badge.svg\" alt=\"Open In Colab\"/></a>"
      ]
    },
    {
      "cell_type": "code",
      "metadata": {
        "id": "S1KvSRIzQSzm"
      },
      "source": [
        "def login( name, pswd ):\n",
        "    print (\"Username: \", name)\n",
        "    print (\"Password\", pswd)\n",
        "    print()\n",
        "    return;\n",
        "\n",
        "def veg():\n",
        "    print(\"welcome to veg restaurant\")\n",
        "    return;\n",
        "\n",
        "def nonveg():\n",
        "    print(\"welcome to non-veg restaurant\")\n",
        "    return;\n",
        "\n",
        "user=input(\"enter ur username\")\n",
        "password=input(\"enter ur password\")\n",
        "login( user, password )\n",
        "\n",
        "choice=int(input(\"looking for veg or non-veg restaurants, press 1 for veg and 2 for non-veg\"))\n",
        "\n",
        "if choice==1:  \n",
        "    veg()  \n",
        "elif choice==2:  \n",
        "    nonveg()\n",
        "else:\n",
        "    print(\"enter either 1 or 2\")\n"
      ],
      "execution_count": null,
      "outputs": []
    }
  ]
}